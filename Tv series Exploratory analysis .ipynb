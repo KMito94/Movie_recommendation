{
 "cells": [
  {
   "cell_type": "code",
   "execution_count": 3,
   "id": "c4b2e2a6",
   "metadata": {},
   "outputs": [],
   "source": [
    "import pandas as pd \n",
    "import numpy as np\n",
    "import matplotlib.pyplot as plt\n",
    "import seaborn as sns;sns.set;"
   ]
  },
  {
   "cell_type": "code",
   "execution_count": 4,
   "id": "866a8917",
   "metadata": {},
   "outputs": [],
   "source": [
    "df = pd.read_csv('TV Series.csv')"
   ]
  },
  {
   "cell_type": "code",
   "execution_count": 5,
   "id": "d32bd66c",
   "metadata": {},
   "outputs": [
    {
     "data": {
      "text/html": [
       "<div>\n",
       "<style scoped>\n",
       "    .dataframe tbody tr th:only-of-type {\n",
       "        vertical-align: middle;\n",
       "    }\n",
       "\n",
       "    .dataframe tbody tr th {\n",
       "        vertical-align: top;\n",
       "    }\n",
       "\n",
       "    .dataframe thead th {\n",
       "        text-align: right;\n",
       "    }\n",
       "</style>\n",
       "<table border=\"1\" class=\"dataframe\">\n",
       "  <thead>\n",
       "    <tr style=\"text-align: right;\">\n",
       "      <th></th>\n",
       "      <th>Series Title</th>\n",
       "      <th>Release Year</th>\n",
       "      <th>Runtime</th>\n",
       "      <th>Genre</th>\n",
       "      <th>Rating</th>\n",
       "      <th>Cast</th>\n",
       "      <th>Synopsis</th>\n",
       "    </tr>\n",
       "  </thead>\n",
       "  <tbody>\n",
       "    <tr>\n",
       "      <th>0</th>\n",
       "      <td>Wednesday</td>\n",
       "      <td>(2022– )</td>\n",
       "      <td>45 min</td>\n",
       "      <td>Comedy, Crime, Fantasy</td>\n",
       "      <td>8.2</td>\n",
       "      <td>Jenna Ortega, Hunter Doohan, Percy Hynes White...</td>\n",
       "      <td>Follows Wednesday Addams' years as a student, ...</td>\n",
       "    </tr>\n",
       "    <tr>\n",
       "      <th>1</th>\n",
       "      <td>Yellowstone</td>\n",
       "      <td>(2018– )</td>\n",
       "      <td>60 min</td>\n",
       "      <td>Drama, Western</td>\n",
       "      <td>8.7</td>\n",
       "      <td>Kevin Costner, Luke Grimes, Kelly Reilly, Wes ...</td>\n",
       "      <td>A ranching family in Montana faces off against...</td>\n",
       "    </tr>\n",
       "    <tr>\n",
       "      <th>2</th>\n",
       "      <td>The White Lotus</td>\n",
       "      <td>(2021–2023)</td>\n",
       "      <td>60 min</td>\n",
       "      <td>Comedy, Drama</td>\n",
       "      <td>7.9</td>\n",
       "      <td>Jennifer Coolidge, Jon Gries, F. Murray Abraha...</td>\n",
       "      <td>Set in a tropical resort, it follows the explo...</td>\n",
       "    </tr>\n",
       "    <tr>\n",
       "      <th>3</th>\n",
       "      <td>1923</td>\n",
       "      <td>(2022–2023)</td>\n",
       "      <td>60 min</td>\n",
       "      <td>Drama, Western</td>\n",
       "      <td>8.6</td>\n",
       "      <td>Harrison Ford, Helen Mirren, Brandon Sklenar, ...</td>\n",
       "      <td>The Duttons face a new set of challenges in th...</td>\n",
       "    </tr>\n",
       "    <tr>\n",
       "      <th>4</th>\n",
       "      <td>Jack Ryan</td>\n",
       "      <td>(2018– )</td>\n",
       "      <td>60 min</td>\n",
       "      <td>Action, Drama, Thriller</td>\n",
       "      <td>8.0</td>\n",
       "      <td>John Krasinski, Wendell Pierce, Michael Kelly,...</td>\n",
       "      <td>Up-and-coming CIA analyst, Jack Ryan, is thrus...</td>\n",
       "    </tr>\n",
       "  </tbody>\n",
       "</table>\n",
       "</div>"
      ],
      "text/plain": [
       "      Series Title Release Year Runtime                    Genre Rating  \\\n",
       "0        Wednesday     (2022– )  45 min   Comedy, Crime, Fantasy    8.2   \n",
       "1      Yellowstone     (2018– )  60 min           Drama, Western    8.7   \n",
       "2  The White Lotus  (2021–2023)  60 min            Comedy, Drama    7.9   \n",
       "3             1923  (2022–2023)  60 min           Drama, Western    8.6   \n",
       "4        Jack Ryan     (2018– )  60 min  Action, Drama, Thriller    8.0   \n",
       "\n",
       "                                                Cast  \\\n",
       "0  Jenna Ortega, Hunter Doohan, Percy Hynes White...   \n",
       "1  Kevin Costner, Luke Grimes, Kelly Reilly, Wes ...   \n",
       "2  Jennifer Coolidge, Jon Gries, F. Murray Abraha...   \n",
       "3  Harrison Ford, Helen Mirren, Brandon Sklenar, ...   \n",
       "4  John Krasinski, Wendell Pierce, Michael Kelly,...   \n",
       "\n",
       "                                            Synopsis  \n",
       "0  Follows Wednesday Addams' years as a student, ...  \n",
       "1  A ranching family in Montana faces off against...  \n",
       "2  Set in a tropical resort, it follows the explo...  \n",
       "3  The Duttons face a new set of challenges in th...  \n",
       "4  Up-and-coming CIA analyst, Jack Ryan, is thrus...  "
      ]
     },
     "execution_count": 5,
     "metadata": {},
     "output_type": "execute_result"
    }
   ],
   "source": [
    "df.head()"
   ]
  },
  {
   "cell_type": "code",
   "execution_count": 20,
   "id": "15219e2f",
   "metadata": {},
   "outputs": [
    {
     "name": "stdout",
     "output_type": "stream",
     "text": [
      "<class 'pandas.core.frame.DataFrame'>\n",
      "RangeIndex: 50000 entries, 0 to 49999\n",
      "Data columns (total 7 columns):\n",
      " #   Column        Non-Null Count  Dtype \n",
      "---  ------        --------------  ----- \n",
      " 0   Series Title  50000 non-null  object\n",
      " 1   Release Year  49800 non-null  object\n",
      " 2   Runtime       50000 non-null  object\n",
      " 3   Genre         50000 non-null  object\n",
      " 4   Rating        50000 non-null  object\n",
      " 5   Cast          49909 non-null  object\n",
      " 6   Synopsis      50000 non-null  object\n",
      "dtypes: object(7)\n",
      "memory usage: 2.7+ MB\n"
     ]
    }
   ],
   "source": [
    "df.info()"
   ]
  },
  {
   "cell_type": "code",
   "execution_count": 8,
   "id": "5caee970",
   "metadata": {},
   "outputs": [
    {
     "data": {
      "text/plain": [
       "0    Jenna Ortega, Hunter Doohan, Percy Hynes White...\n",
       "1    Kevin Costner, Luke Grimes, Kelly Reilly, Wes ...\n",
       "2    Jennifer Coolidge, Jon Gries, F. Murray Abraha...\n",
       "3    Harrison Ford, Helen Mirren, Brandon Sklenar, ...\n",
       "4    John Krasinski, Wendell Pierce, Michael Kelly,...\n",
       "5    Sylvester Stallone, Andrea Savage, Martin Star...\n",
       "6    Kento Yamazaki, Tao Tsuchiya, Nijirô Murakami,...\n",
       "7    Noah Centineo, Laura Haddock, Aarti Mann, Colt...\n",
       "8    Ruby Cruz, Ellie Bamber, Erin Kellyman, Tony R...\n",
       "9    Pedro Pascal, Bella Ramsey, Gabriel Luna, Merl...\n",
       "Name: Cast, dtype: object"
      ]
     },
     "execution_count": 8,
     "metadata": {},
     "output_type": "execute_result"
    }
   ],
   "source": [
    "df['Cast'][:10]"
   ]
  },
  {
   "cell_type": "code",
   "execution_count": 11,
   "id": "19ed56cb",
   "metadata": {},
   "outputs": [
    {
     "data": {
      "text/plain": [
       "0    Follows Wednesday Addams' years as a student, ...\n",
       "1    A ranching family in Montana faces off against...\n",
       "2    Set in a tropical resort, it follows the explo...\n",
       "3    The Duttons face a new set of challenges in th...\n",
       "4    Up-and-coming CIA analyst, Jack Ryan, is thrus...\n",
       "Name: Synopsis, dtype: object"
      ]
     },
     "execution_count": 11,
     "metadata": {},
     "output_type": "execute_result"
    }
   ],
   "source": [
    "df['Synopsis'][:5]"
   ]
  },
  {
   "cell_type": "code",
   "execution_count": 19,
   "id": "37aefa5b",
   "metadata": {},
   "outputs": [
    {
     "data": {
      "text/html": [
       "<div>\n",
       "<style scoped>\n",
       "    .dataframe tbody tr th:only-of-type {\n",
       "        vertical-align: middle;\n",
       "    }\n",
       "\n",
       "    .dataframe tbody tr th {\n",
       "        vertical-align: top;\n",
       "    }\n",
       "\n",
       "    .dataframe thead th {\n",
       "        text-align: right;\n",
       "    }\n",
       "</style>\n",
       "<table border=\"1\" class=\"dataframe\">\n",
       "  <thead>\n",
       "    <tr style=\"text-align: right;\">\n",
       "      <th></th>\n",
       "      <th>Series Title</th>\n",
       "      <th>Release Year</th>\n",
       "      <th>Runtime</th>\n",
       "      <th>Genre</th>\n",
       "      <th>Rating</th>\n",
       "      <th>Cast</th>\n",
       "      <th>Synopsis</th>\n",
       "    </tr>\n",
       "  </thead>\n",
       "  <tbody>\n",
       "    <tr>\n",
       "      <th>2790</th>\n",
       "      <td>His Dark Materials</td>\n",
       "      <td>(2003)</td>\n",
       "      <td>****</td>\n",
       "      <td>Adventure, Drama, Fantasy</td>\n",
       "      <td>9.7</td>\n",
       "      <td>Terence Stamp, Kenneth Cranham, Bill Paterson,...</td>\n",
       "      <td>A young girl sets out on a quest that takes he...</td>\n",
       "    </tr>\n",
       "    <tr>\n",
       "      <th>8134</th>\n",
       "      <td>Roadworthy Rescues</td>\n",
       "      <td>(2022– )</td>\n",
       "      <td>****</td>\n",
       "      <td>****</td>\n",
       "      <td>9.6</td>\n",
       "      <td>Derek Bieri, Jessica Bieri, Dan Dosemagen, Car...</td>\n",
       "      <td>Follow Derek Bieri as he seeks out abandoned c...</td>\n",
       "    </tr>\n",
       "    <tr>\n",
       "      <th>9173</th>\n",
       "      <td>Dallyeola Bangtan!</td>\n",
       "      <td>(2015– )</td>\n",
       "      <td>****</td>\n",
       "      <td>Game-Show</td>\n",
       "      <td>9.6</td>\n",
       "      <td>RM, V, Jin, Jimin</td>\n",
       "      <td>Run BTS (Dallyeola Bangtan!) is a South Korean...</td>\n",
       "    </tr>\n",
       "    <tr>\n",
       "      <th>202</th>\n",
       "      <td>Bluey</td>\n",
       "      <td>(2018– )</td>\n",
       "      <td>7 min</td>\n",
       "      <td>Animation, Family</td>\n",
       "      <td>9.6</td>\n",
       "      <td>David McCormack, Melanie Zanetti, Ninthe van S...</td>\n",
       "      <td>The slice-of-life adventures of an Australian ...</td>\n",
       "    </tr>\n",
       "    <tr>\n",
       "      <th>16621</th>\n",
       "      <td>Breaking Bad</td>\n",
       "      <td>(2008–2013)</td>\n",
       "      <td>49 min</td>\n",
       "      <td>Crime, Drama, Thriller</td>\n",
       "      <td>9.5</td>\n",
       "      <td>Bryan Cranston, Aaron Paul, Anna Gunn, Betsy B...</td>\n",
       "      <td>A chemistry teacher diagnosed with inoperable ...</td>\n",
       "    </tr>\n",
       "    <tr>\n",
       "      <th>40021</th>\n",
       "      <td>Breaking Bad</td>\n",
       "      <td>(2008–2013)</td>\n",
       "      <td>49 min</td>\n",
       "      <td>Crime, Drama, Thriller</td>\n",
       "      <td>9.5</td>\n",
       "      <td>Bryan Cranston, Aaron Paul, Anna Gunn, Betsy B...</td>\n",
       "      <td>A chemistry teacher diagnosed with inoperable ...</td>\n",
       "    </tr>\n",
       "    <tr>\n",
       "      <th>29721</th>\n",
       "      <td>Breaking Bad</td>\n",
       "      <td>(2008–2013)</td>\n",
       "      <td>49 min</td>\n",
       "      <td>Crime, Drama, Thriller</td>\n",
       "      <td>9.5</td>\n",
       "      <td>Bryan Cranston, Aaron Paul, Anna Gunn, Betsy B...</td>\n",
       "      <td>A chemistry teacher diagnosed with inoperable ...</td>\n",
       "    </tr>\n",
       "    <tr>\n",
       "      <th>47071</th>\n",
       "      <td>Breaking Bad</td>\n",
       "      <td>(2008–2013)</td>\n",
       "      <td>49 min</td>\n",
       "      <td>Crime, Drama, Thriller</td>\n",
       "      <td>9.5</td>\n",
       "      <td>Bryan Cranston, Aaron Paul, Anna Gunn, Betsy B...</td>\n",
       "      <td>A chemistry teacher diagnosed with inoperable ...</td>\n",
       "    </tr>\n",
       "    <tr>\n",
       "      <th>10921</th>\n",
       "      <td>Breaking Bad</td>\n",
       "      <td>(2008–2013)</td>\n",
       "      <td>49 min</td>\n",
       "      <td>Crime, Drama, Thriller</td>\n",
       "      <td>9.5</td>\n",
       "      <td>Bryan Cranston, Aaron Paul, Anna Gunn, Betsy B...</td>\n",
       "      <td>A chemistry teacher diagnosed with inoperable ...</td>\n",
       "    </tr>\n",
       "    <tr>\n",
       "      <th>29671</th>\n",
       "      <td>Breaking Bad</td>\n",
       "      <td>(2008–2013)</td>\n",
       "      <td>49 min</td>\n",
       "      <td>Crime, Drama, Thriller</td>\n",
       "      <td>9.5</td>\n",
       "      <td>Bryan Cranston, Aaron Paul, Anna Gunn, Betsy B...</td>\n",
       "      <td>A chemistry teacher diagnosed with inoperable ...</td>\n",
       "    </tr>\n",
       "  </tbody>\n",
       "</table>\n",
       "</div>"
      ],
      "text/plain": [
       "             Series Title Release Year Runtime                      Genre  \\\n",
       "2790   His Dark Materials       (2003)    ****  Adventure, Drama, Fantasy   \n",
       "8134   Roadworthy Rescues     (2022– )    ****                       ****   \n",
       "9173   Dallyeola Bangtan!     (2015– )    ****                  Game-Show   \n",
       "202                 Bluey     (2018– )   7 min          Animation, Family   \n",
       "16621        Breaking Bad  (2008–2013)  49 min     Crime, Drama, Thriller   \n",
       "40021        Breaking Bad  (2008–2013)  49 min     Crime, Drama, Thriller   \n",
       "29721        Breaking Bad  (2008–2013)  49 min     Crime, Drama, Thriller   \n",
       "47071        Breaking Bad  (2008–2013)  49 min     Crime, Drama, Thriller   \n",
       "10921        Breaking Bad  (2008–2013)  49 min     Crime, Drama, Thriller   \n",
       "29671        Breaking Bad  (2008–2013)  49 min     Crime, Drama, Thriller   \n",
       "\n",
       "      Rating                                               Cast  \\\n",
       "2790     9.7  Terence Stamp, Kenneth Cranham, Bill Paterson,...   \n",
       "8134     9.6  Derek Bieri, Jessica Bieri, Dan Dosemagen, Car...   \n",
       "9173     9.6                                  RM, V, Jin, Jimin   \n",
       "202      9.6  David McCormack, Melanie Zanetti, Ninthe van S...   \n",
       "16621    9.5  Bryan Cranston, Aaron Paul, Anna Gunn, Betsy B...   \n",
       "40021    9.5  Bryan Cranston, Aaron Paul, Anna Gunn, Betsy B...   \n",
       "29721    9.5  Bryan Cranston, Aaron Paul, Anna Gunn, Betsy B...   \n",
       "47071    9.5  Bryan Cranston, Aaron Paul, Anna Gunn, Betsy B...   \n",
       "10921    9.5  Bryan Cranston, Aaron Paul, Anna Gunn, Betsy B...   \n",
       "29671    9.5  Bryan Cranston, Aaron Paul, Anna Gunn, Betsy B...   \n",
       "\n",
       "                                                Synopsis  \n",
       "2790   A young girl sets out on a quest that takes he...  \n",
       "8134   Follow Derek Bieri as he seeks out abandoned c...  \n",
       "9173   Run BTS (Dallyeola Bangtan!) is a South Korean...  \n",
       "202    The slice-of-life adventures of an Australian ...  \n",
       "16621  A chemistry teacher diagnosed with inoperable ...  \n",
       "40021  A chemistry teacher diagnosed with inoperable ...  \n",
       "29721  A chemistry teacher diagnosed with inoperable ...  \n",
       "47071  A chemistry teacher diagnosed with inoperable ...  \n",
       "10921  A chemistry teacher diagnosed with inoperable ...  \n",
       "29671  A chemistry teacher diagnosed with inoperable ...  "
      ]
     },
     "execution_count": 19,
     "metadata": {},
     "output_type": "execute_result"
    }
   ],
   "source": [
    "df.sort_values('Rating',ascending=False)[:10]"
   ]
  },
  {
   "cell_type": "code",
   "execution_count": 22,
   "id": "f170ac16",
   "metadata": {},
   "outputs": [
    {
     "data": {
      "text/plain": [
       "Series Title      0\n",
       "Release Year    200\n",
       "Runtime           0\n",
       "Genre             0\n",
       "Rating            0\n",
       "Cast             91\n",
       "Synopsis          0\n",
       "dtype: int64"
      ]
     },
     "execution_count": 22,
     "metadata": {},
     "output_type": "execute_result"
    }
   ],
   "source": [
    "df.isnull().sum()"
   ]
  },
  {
   "cell_type": "code",
   "execution_count": 25,
   "id": "c69b4f66",
   "metadata": {},
   "outputs": [
    {
     "data": {
      "image/png": "[encoded data removed]",
      "text/plain": [
       "<Figure size 432x288 with 1 Axes>"
      ]
     },
     "metadata": {
      "needs_background": "light"
     },
     "output_type": "display_data"
    }
   ],
   "source": [
    "sns.countplot(data=df, x=df.isnull().sum());"
   ]
  },
  {
   "cell_type": "code",
   "execution_count": null,
   "id": "e9d964a3",
   "metadata": {},
   "outputs": [],
   "source": []
  },
  {
   "cell_type": "code",
   "execution_count": null,
   "id": "38547240",
   "metadata": {},
   "outputs": [],
   "source": []
  }
 ],
 "metadata": {
  "kernelspec": {
   "display_name": "Python 3",
   "language": "python",
   "name": "python3"
  },
  "language_info": {
   "codemirror_mode": {
    "name": "ipython",
    "version": 3
   },
   "file_extension": ".py",
   "mimetype": "text/x-python",
   "name": "python",
   "nbconvert_exporter": "python",
   "pygments_lexer": "ipython3",
   "version": "3.8.8"
  }
 },
 "nbformat": 4,
 "nbformat_minor": 5
}
